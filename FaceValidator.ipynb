{
 "cells": [
  {
   "cell_type": "markdown",
   "metadata": {},
   "source": [
    "# A Simple NN to classify Images of Faces"
   ]
  },
  {
   "cell_type": "code",
   "execution_count": 1,
   "metadata": {},
   "outputs": [],
   "source": [
    "from tensorflow.keras.layers import Dense, Dropout, Flatten, Conv2D, MaxPooling2D\n",
    "from tensorflow.keras.utils import to_categorical\n",
    "from tensorflow.keras.preprocessing import image\n",
    "from tensorflow.keras.models import Sequential\n",
    "from tensorflow.keras.optimizers import RMSprop\n",
    "from sklearn.model_selection import train_test_split\n",
    "from sklearn.preprocessing import OneHotEncoder\n",
    "import numpy as np\n",
    "from PIL import Image, ImageEnhance, ImageFilter\n",
    "import glob\n",
    "import matplotlib.pyplot as plt\n",
    "%matplotlib inline"
   ]
  },
  {
   "cell_type": "code",
   "execution_count": 2,
   "metadata": {},
   "outputs": [],
   "source": [
    "def load_set(path):\n",
    "    arr = []\n",
    "    for filename in glob.glob(path):\n",
    "        im=Image.open(filename)\n",
    "        arr.append(im.copy())\n",
    "        im.close()    \n",
    "    return(arr)\n",
    "\n",
    "valid_set = load_set('faces/good/*.png')\n",
    "ngtv_set = load_set('faces/bad/*.png')"
   ]
  },
  {
   "cell_type": "markdown",
   "metadata": {},
   "source": [
    "#### Since there are fewer images in the valid set, I've created augmented mirroed duplicates"
   ]
  },
  {
   "cell_type": "code",
   "execution_count": 3,
   "metadata": {},
   "outputs": [],
   "source": [
    "rarr = [img.transpose(Image.FLIP_LEFT_RIGHT) for img in valid_set]\n",
    "valid_set.extend(rarr)"
   ]
  },
  {
   "cell_type": "markdown",
   "metadata": {},
   "source": [
    "#### I've created a balanced set of valid and negative images, and a list of labels with corresponding lables"
   ]
  },
  {
   "cell_type": "code",
   "execution_count": 4,
   "metadata": {},
   "outputs": [],
   "source": [
    "minlen = min(len(valid_set), len(ngtv_set))\n",
    "\n",
    "vset = [np.array(image) for image in valid_set[:minlen]]\n",
    "nset = [np.array(image) for image in ngtv_set[:minlen]]\n",
    "allset = np.array(vset + nset)\n",
    "labels = [1]*len(vset)+[0]*len(nset)\n",
    "x = np.expand_dims(allset, 3)\n",
    "y = np.expand_dims(labels, 1)\n",
    "y = to_categorical(y)"
   ]
  },
  {
   "cell_type": "markdown",
   "metadata": {},
   "source": [
    "#### The data is divided into 80% train, 20% test. All the sets' data normilized"
   ]
  },
  {
   "cell_type": "code",
   "execution_count": 5,
   "metadata": {},
   "outputs": [],
   "source": [
    "x_train, x_test, y_train, y_test = train_test_split(x, y, random_state=1, test_size=0.2)\n",
    "\n",
    "datagen = image.ImageDataGenerator(rescale=1.0/255.0)\n",
    "train_iterator = datagen.flow(x_train, y_train, batch_size=32)\n",
    "test_iterator = datagen.flow(x_test, y_test, batch_size=32)"
   ]
  },
  {
   "cell_type": "markdown",
   "metadata": {},
   "source": [
    "#### Adding model layers sequentialy\n",
    "This is a convolutional neural network. \n",
    "\n",
    "The architacture is VGGNET, with filters of sizes 32 --> 64 --> 128 --> 2. \n",
    "\n",
    "I used maxpooling to down-sample the features and droupout to drop neurons so as to avoid over-fitting.\n"
   ]
  },
  {
   "cell_type": "code",
   "execution_count": 6,
   "metadata": {},
   "outputs": [
    {
     "name": "stdout",
     "output_type": "stream",
     "text": [
      "WARNING:tensorflow:From c:\\users\\user\\venv\\lib\\site-packages\\tensorflow\\python\\ops\\resource_variable_ops.py:435: colocate_with (from tensorflow.python.framework.ops) is deprecated and will be removed in a future version.\n",
      "Instructions for updating:\n",
      "Colocations handled automatically by placer.\n",
      "WARNING:tensorflow:From c:\\users\\user\\venv\\lib\\site-packages\\tensorflow\\python\\keras\\layers\\core.py:143: calling dropout (from tensorflow.python.ops.nn_ops) with keep_prob is deprecated and will be removed in a future version.\n",
      "Instructions for updating:\n",
      "Please use `rate` instead of `keep_prob`. Rate should be set to `rate = 1 - keep_prob`.\n"
     ]
    }
   ],
   "source": [
    "model = Sequential()\n",
    "model.add(Conv2D(32, kernel_size=(3, 3),activation='relu',input_shape=(50,50, 1)))\n",
    "model.add(MaxPooling2D(pool_size=(2, 2)))\n",
    "model.add(Conv2D(64, (3, 3), activation='relu'))\n",
    "model.add(MaxPooling2D(pool_size=(2, 2)))\n",
    "model.add(Dropout(0.25))\n",
    "model.add(Flatten())\n",
    "model.add(Dense(128, activation='relu'))\n",
    "model.add(Dropout(0.5))\n",
    "model.add(Dense(2, activation='sigmoid'))"
   ]
  },
  {
   "cell_type": "markdown",
   "metadata": {},
   "source": [
    "#### The loss is fitted for a two-class problem. This optimizer had the best results"
   ]
  },
  {
   "cell_type": "code",
   "execution_count": 7,
   "metadata": {},
   "outputs": [],
   "source": [
    "model.compile(loss='binary_crossentropy',optimizer=RMSprop(lr=0.001) ,metrics=['accuracy'])"
   ]
  },
  {
   "cell_type": "code",
   "execution_count": 8,
   "metadata": {},
   "outputs": [
    {
     "name": "stdout",
     "output_type": "stream",
     "text": [
      "WARNING:tensorflow:From c:\\users\\user\\venv\\lib\\site-packages\\tensorflow\\python\\ops\\math_ops.py:3066: to_int32 (from tensorflow.python.ops.math_ops) is deprecated and will be removed in a future version.\n",
      "Instructions for updating:\n",
      "Use tf.cast instead.\n",
      "Epoch 1/10\n",
      "25/25 [==============================] - 2s 60ms/step - loss: 0.1919 - acc: 0.9280\n",
      "100/100 [==============================] - 23s 230ms/step - loss: 0.3914 - acc: 0.8121 - val_loss: 0.1919 - val_acc: 0.9280\n",
      "Epoch 2/10\n",
      "25/25 [==============================] - 1s 57ms/step - loss: 0.1824 - acc: 0.9431TA: 5 - ETA: 1s - loss: 0\n",
      "100/100 [==============================] - 21s 208ms/step - loss: 0.1622 - acc: 0.9405 - val_loss: 0.1824 - val_acc: 0.9431\n",
      "Epoch 3/10\n",
      "25/25 [==============================] - 1s 55ms/step - loss: 0.0811 - acc: 0.9731\n",
      "100/100 [==============================] - 23s 225ms/step - loss: 0.1068 - acc: 0.9663 - val_loss: 0.0811 - val_acc: 0.9731\n",
      "Epoch 4/10\n",
      "25/25 [==============================] - 1s 58ms/step - loss: 0.0588 - acc: 0.9844\n",
      "100/100 [==============================] - 22s 220ms/step - loss: 0.0892 - acc: 0.9721 - val_loss: 0.0588 - val_acc: 0.9844\n",
      "Epoch 5/10\n",
      "25/25 [==============================] - 2s 68ms/step - loss: 0.0646 - acc: 0.9743: 1s - loss: 0.0\n",
      "100/100 [==============================] - 23s 226ms/step - loss: 0.0721 - acc: 0.9782 - val_loss: 0.0646 - val_acc: 0.9743\n",
      "Epoch 6/10\n",
      "25/25 [==============================] - 2s 63ms/step - loss: 0.0876 - acc: 0.9737\n",
      "100/100 [==============================] - 23s 227ms/step - loss: 0.0529 - acc: 0.9812 - val_loss: 0.0876 - val_acc: 0.9737\n",
      "Epoch 7/10\n",
      "25/25 [==============================] - 2s 64ms/step - loss: 0.0420 - acc: 0.9875\n",
      "100/100 [==============================] - 23s 229ms/step - loss: 0.0604 - acc: 0.9815 - val_loss: 0.0420 - val_acc: 0.9875\n",
      "Epoch 8/10\n",
      "25/25 [==============================] - 2s 68ms/step - loss: 0.0516 - acc: 0.9819\n",
      "100/100 [==============================] - 24s 235ms/step - loss: 0.0484 - acc: 0.9845 - val_loss: 0.0516 - val_acc: 0.9819\n",
      "Epoch 9/10\n",
      "25/25 [==============================] - 2s 66ms/step - loss: 0.0542 - acc: 0.9793\n",
      "100/100 [==============================] - 24s 240ms/step - loss: 0.0300 - acc: 0.9892 - val_loss: 0.0542 - val_acc: 0.9793\n",
      "Epoch 10/10\n",
      "25/25 [==============================] - 2s 67ms/step - loss: 0.0407 - acc: 0.9881\n",
      "100/100 [==============================] - 24s 240ms/step - loss: 0.0356 - acc: 0.9862 - val_loss: 0.0407 - val_acc: 0.9881\n"
     ]
    }
   ],
   "source": [
    "history = model.fit_generator(train_iterator, steps_per_epoch=len(train_iterator), epochs=10,\n",
    "                              validation_data=(test_iterator))"
   ]
  },
  {
   "cell_type": "code",
   "execution_count": 9,
   "metadata": {},
   "outputs": [],
   "source": [
    "model.save_weights('model_wieghts.h5')\n",
    "model.save('model_keras.h5')"
   ]
  },
  {
   "cell_type": "markdown",
   "metadata": {},
   "source": [
    "#### I created a final test set to test prediction. It chooses randomly from the valid and negative sets"
   ]
  },
  {
   "cell_type": "code",
   "execution_count": 10,
   "metadata": {},
   "outputs": [],
   "source": [
    "import random\n",
    "testset = np.array(random.sample(vset,10) + random.sample(nset,10))\n",
    "tx = np.expand_dims(testset, 3)"
   ]
  },
  {
   "cell_type": "code",
   "execution_count": 11,
   "metadata": {},
   "outputs": [
    {
     "data": {
      "text/plain": [
       "array([1, 1, 1, 1, 1, 1, 1, 1, 1, 1, 0, 0, 0, 0, 0, 0, 0, 0, 0, 0],\n",
       "      dtype=int64)"
      ]
     },
     "execution_count": 11,
     "metadata": {},
     "output_type": "execute_result"
    }
   ],
   "source": [
    "model.predict_classes(tx)"
   ]
  },
  {
   "cell_type": "code",
   "execution_count": 12,
   "metadata": {},
   "outputs": [
    {
     "name": "stdout",
     "output_type": "stream",
     "text": [
      "average time for image prediction in millisecond:  2.40015\n"
     ]
    }
   ],
   "source": [
    "import datetime as dt\n",
    "n1=dt.datetime.now()\n",
    "model.predict(tx)\n",
    "n2=dt.datetime.now()\n",
    "print(\"average time for image prediction in millisecond: \", (n2-n1).microseconds/(len(tx)*1000))"
   ]
  }
 ],
 "metadata": {
  "kernelspec": {
   "display_name": "Python 3",
   "language": "python",
   "name": "python3"
  },
  "language_info": {
   "codemirror_mode": {
    "name": "ipython",
    "version": 3
   },
   "file_extension": ".py",
   "mimetype": "text/x-python",
   "name": "python",
   "nbconvert_exporter": "python",
   "pygments_lexer": "ipython3",
   "version": "3.6.8"
  }
 },
 "nbformat": 4,
 "nbformat_minor": 2
}
